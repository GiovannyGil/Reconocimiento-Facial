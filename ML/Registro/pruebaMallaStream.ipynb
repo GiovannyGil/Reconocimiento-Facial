{
 "cells": [
  {
   "cell_type": "code",
   "execution_count": 4,
   "metadata": {},
   "outputs": [],
   "source": [
    "import cv2\n",
    "import mediapipe as mp \n",
    "import face_recognition"
   ]
  },
  {
   "cell_type": "code",
   "execution_count": 5,
   "metadata": {},
   "outputs": [],
   "source": [
    "mp_face_mesh = mp.solutions.face_mesh\n",
    "mp_drawing = mp.solutions.drawing_utils"
   ]
  },
  {
   "cell_type": "code",
   "execution_count": 6,
   "metadata": {},
   "outputs": [],
   "source": [
    "# captura video por camara\n",
    "cap = cv2.VideoCapture(0)\n",
    "# Inicializa Face Recognition\n",
    "face_cascade = cv2.CascadeClassifier(cv2.data.haarcascades + 'haarcascade_frontalface_default.xml')\n",
    "\n",
    "with mp_face_mesh.FaceMesh(\n",
    "    static_image_mode=False, # True para imagenes fotos, false para video, stream\n",
    "    max_num_faces=3, # cantidad de personas a las que le pondra la malla facial\n",
    "    min_detection_confidence=0.5) as face_mesh:\n",
    "    \n",
    "    while True:\n",
    "        ret, frame = cap.read()\n",
    "        if ret == False:\n",
    "            break\n",
    "        frame = cv2.flip(frame,1) # ver la salida por camara como espejo\n",
    "        frame_rgb = cv2.cvtColor(frame, cv2.COLOR_BGR2RGB)\n",
    "        results = face_mesh.process(frame_rgb)\n",
    "        # faces = face_cascade.detectMultiScale(frame_rgb, scaleFactor=1.1, minNeighbors=5)\n",
    "        faces = face_cascade.detectMultiScale(frame_rgb,1.1, 5) # precicion del detector de rostros\n",
    "        \n",
    "        for (x, y, w, h) in faces:\n",
    "            # Ajusta el tamaño de la región de interés (ROI)\n",
    "            x -= 10  # Reduce la coordenada x (izquierda)\n",
    "            y -= 10  # Reduce la coordenada y (arriba)\n",
    "            w += 20  # Aumenta el ancho\n",
    "            h += 20  # Aumenta la altura\n",
    "            cv2.rectangle(frame, (x, y), (x + w, y + h), (0, 255, 0), 2)\n",
    "\n",
    "        \n",
    "        \n",
    "        if results.multi_face_landmarks is not None: # comprovar que no es vacio, que haya rostros\n",
    "            for face_landmarks in results.multi_face_landmarks:\n",
    "                mp_drawing.draw_landmarks(frame, face_landmarks,    \n",
    "                    mp_face_mesh.FACE_CONNECTIONS,\n",
    "                    mp_drawing.DrawingSpec(color=(0,0,0), thickness=1, circle_radius=1), mp_drawing.DrawingSpec(color=(255,255,255), thickness=1)) # ver los puntos y conecciones en la imagen con colores modificados\n",
    "        cv2.imshow(\"Frame\", frame)\n",
    "        k = cv2.waitKey(1) & 0xFF\n",
    "        if k == 27:\n",
    "            break\n",
    "cap.release()\n",
    "cv2.destroyAllWindows()\n"
   ]
  }
 ],
 "metadata": {
  "kernelspec": {
   "display_name": "G37",
   "language": "python",
   "name": "python3"
  },
  "language_info": {
   "codemirror_mode": {
    "name": "ipython",
    "version": 3
   },
   "file_extension": ".py",
   "mimetype": "text/x-python",
   "name": "python",
   "nbconvert_exporter": "python",
   "pygments_lexer": "ipython3",
   "version": "3.7.12"
  }
 },
 "nbformat": 4,
 "nbformat_minor": 2
}
